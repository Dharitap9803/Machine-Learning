{
  "nbformat": 4,
  "nbformat_minor": 0,
  "metadata": {
    "colab": {
      "provenance": [],
      "mount_file_id": "1OTX47wGej2C51rKs1g_B60ftf5mAY8TW",
      "authorship_tag": "ABX9TyMfUQpIM+xTCB+LYoPHK2ld",
      "include_colab_link": true
    },
    "kernelspec": {
      "name": "python3",
      "display_name": "Python 3"
    },
    "language_info": {
      "name": "python"
    }
  },
  "cells": [
    {
      "cell_type": "markdown",
      "metadata": {
        "id": "view-in-github",
        "colab_type": "text"
      },
      "source": [
        "<a href=\"https://colab.research.google.com/github/Dharitap9803/Machine-Learning/blob/main/Deep_Neural_Network.ipynb\" target=\"_parent\"><img src=\"https://colab.research.google.com/assets/colab-badge.svg\" alt=\"Open In Colab\"/></a>"
      ]
    },
    {
      "cell_type": "code",
      "execution_count": 44,
      "metadata": {
        "id": "5WgpnWS-YGTM"
      },
      "outputs": [],
      "source": []
    },
    {
      "cell_type": "code",
      "source": [
        "from google.colab import drive\n",
        "drive.mount('/content/drive')"
      ],
      "metadata": {
        "colab": {
          "base_uri": "https://localhost:8080/"
        },
        "id": "ElI3GeFaYJBk",
        "outputId": "b011e83e-4a8c-4500-f840-be7837b78ea3"
      },
      "execution_count": 45,
      "outputs": [
        {
          "output_type": "stream",
          "name": "stdout",
          "text": [
            "Drive already mounted at /content/drive; to attempt to forcibly remount, call drive.mount(\"/content/drive\", force_remount=True).\n"
          ]
        }
      ]
    },
    {
      "cell_type": "code",
      "source": [
        "from numpy import loadtxt\n",
        "from tensorflow import keras\n",
        "\n",
        "from tensorflow.keras.models import Sequential\n",
        "from tensorflow.keras.layers import Dense"
      ],
      "metadata": {
        "id": "3fcmKaVHYgBa"
      },
      "execution_count": 46,
      "outputs": []
    },
    {
      "cell_type": "code",
      "source": [
        "dataset = loadtxt('/content/drive/MyDrive/diabetes/diabetes1.csv',delimiter=',')"
      ],
      "metadata": {
        "id": "0hrSPyQEZkf7"
      },
      "execution_count": 47,
      "outputs": []
    },
    {
      "cell_type": "code",
      "source": [
        "x=dataset[:,0:8]\n",
        "y=dataset[:,8]"
      ],
      "metadata": {
        "id": "K0IeYQkOanFe"
      },
      "execution_count": 48,
      "outputs": []
    },
    {
      "cell_type": "code",
      "source": [
        "model = Sequential()\n",
        "model.add(Dense(8,input_dim=8,activation='relu'))\n",
        "model.add(Dense(8,activation='relu'))\n",
        "model.add(Dense(1,activation='sigmoid'))"
      ],
      "metadata": {
        "id": "j6Kwm0bmavjW"
      },
      "execution_count": 49,
      "outputs": []
    },
    {
      "cell_type": "code",
      "source": [
        "model.compile(loss='binary_crossentropy',optimizer='adam',metrics=['accuracy'])"
      ],
      "metadata": {
        "id": "N4Y3BKjDcTGW"
      },
      "execution_count": 50,
      "outputs": []
    },
    {
      "cell_type": "code",
      "source": [
        "model.fit(x,y,epochs=30,batch_size=5)"
      ],
      "metadata": {
        "colab": {
          "base_uri": "https://localhost:8080/"
        },
        "id": "kEc59i3-chbA",
        "outputId": "72fdad4b-0374-48d8-dbe4-e0a02cc2c6f8"
      },
      "execution_count": 51,
      "outputs": [
        {
          "output_type": "stream",
          "name": "stdout",
          "text": [
            "Epoch 1/30\n",
            "154/154 [==============================] - 1s 2ms/step - loss: 3.3949 - accuracy: 0.5898\n",
            "Epoch 2/30\n",
            "154/154 [==============================] - 0s 2ms/step - loss: 1.1858 - accuracy: 0.5599\n",
            "Epoch 3/30\n",
            "154/154 [==============================] - 0s 2ms/step - loss: 0.9138 - accuracy: 0.5859\n",
            "Epoch 4/30\n",
            "154/154 [==============================] - 0s 2ms/step - loss: 0.7985 - accuracy: 0.5938\n",
            "Epoch 5/30\n",
            "154/154 [==============================] - 0s 2ms/step - loss: 0.7480 - accuracy: 0.6211\n",
            "Epoch 6/30\n",
            "154/154 [==============================] - 0s 2ms/step - loss: 0.7096 - accuracy: 0.6198\n",
            "Epoch 7/30\n",
            "154/154 [==============================] - 0s 2ms/step - loss: 0.6761 - accuracy: 0.6341\n",
            "Epoch 8/30\n",
            "154/154 [==============================] - 0s 2ms/step - loss: 0.6779 - accuracy: 0.6328\n",
            "Epoch 9/30\n",
            "154/154 [==============================] - 0s 2ms/step - loss: 0.6523 - accuracy: 0.6602\n",
            "Epoch 10/30\n",
            "154/154 [==============================] - 0s 2ms/step - loss: 0.6322 - accuracy: 0.6784\n",
            "Epoch 11/30\n",
            "154/154 [==============================] - 0s 2ms/step - loss: 0.6430 - accuracy: 0.6576\n",
            "Epoch 12/30\n",
            "154/154 [==============================] - 0s 2ms/step - loss: 0.6282 - accuracy: 0.6602\n",
            "Epoch 13/30\n",
            "154/154 [==============================] - 0s 2ms/step - loss: 0.6308 - accuracy: 0.6562\n",
            "Epoch 14/30\n",
            "154/154 [==============================] - 0s 2ms/step - loss: 0.6126 - accuracy: 0.6758\n",
            "Epoch 15/30\n",
            "154/154 [==============================] - 0s 2ms/step - loss: 0.6250 - accuracy: 0.6719\n",
            "Epoch 16/30\n",
            "154/154 [==============================] - 0s 2ms/step - loss: 0.6046 - accuracy: 0.6823\n",
            "Epoch 17/30\n",
            "154/154 [==============================] - 0s 2ms/step - loss: 0.6029 - accuracy: 0.6901\n",
            "Epoch 18/30\n",
            "154/154 [==============================] - 0s 2ms/step - loss: 0.5932 - accuracy: 0.6940\n",
            "Epoch 19/30\n",
            "154/154 [==============================] - 0s 2ms/step - loss: 0.6010 - accuracy: 0.6953\n",
            "Epoch 20/30\n",
            "154/154 [==============================] - 0s 2ms/step - loss: 0.6080 - accuracy: 0.6836\n",
            "Epoch 21/30\n",
            "154/154 [==============================] - 0s 3ms/step - loss: 0.5984 - accuracy: 0.6875\n",
            "Epoch 22/30\n",
            "154/154 [==============================] - 0s 3ms/step - loss: 0.5941 - accuracy: 0.6914\n",
            "Epoch 23/30\n",
            "154/154 [==============================] - 0s 3ms/step - loss: 0.5923 - accuracy: 0.6927\n",
            "Epoch 24/30\n",
            "154/154 [==============================] - 0s 3ms/step - loss: 0.5825 - accuracy: 0.7044\n",
            "Epoch 25/30\n",
            "154/154 [==============================] - 0s 3ms/step - loss: 0.5892 - accuracy: 0.6888\n",
            "Epoch 26/30\n",
            "154/154 [==============================] - 0s 3ms/step - loss: 0.5817 - accuracy: 0.7031\n",
            "Epoch 27/30\n",
            "154/154 [==============================] - 0s 2ms/step - loss: 0.5810 - accuracy: 0.6940\n",
            "Epoch 28/30\n",
            "154/154 [==============================] - 0s 3ms/step - loss: 0.5776 - accuracy: 0.7057\n",
            "Epoch 29/30\n",
            "154/154 [==============================] - 0s 3ms/step - loss: 0.5706 - accuracy: 0.7161\n",
            "Epoch 30/30\n",
            "154/154 [==============================] - 0s 2ms/step - loss: 0.5650 - accuracy: 0.7096\n"
          ]
        },
        {
          "output_type": "execute_result",
          "data": {
            "text/plain": [
              "<keras.src.callbacks.History at 0x7a140d33cf10>"
            ]
          },
          "metadata": {},
          "execution_count": 51
        }
      ]
    },
    {
      "cell_type": "code",
      "source": [
        "_,accuracy=model.evaluate(x,y)\n",
        "print('Accuracy: %.2f'% (accuracy*100))"
      ],
      "metadata": {
        "colab": {
          "base_uri": "https://localhost:8080/"
        },
        "id": "ntcex_eQculL",
        "outputId": "dce382e1-5726-4511-96e9-8ea9e5029c2f"
      },
      "execution_count": 52,
      "outputs": [
        {
          "output_type": "stream",
          "name": "stdout",
          "text": [
            "24/24 [==============================] - 0s 3ms/step - loss: 0.5617 - accuracy: 0.7096\n",
            "Accuracy: 70.96\n"
          ]
        }
      ]
    },
    {
      "cell_type": "code",
      "source": [
        "Xnew = [[7.0,178.0,72.0,25.0,0.0,30.6,0.527,40.0]]\n",
        "#make a prediction\n",
        "ynew = model.predict(Xnew).astype(int)\n",
        "#show the inputs and predicted outputs\n",
        "print(\"X=%s,predicted=%s\"% (Xnew[0],ynew[0]))\n"
      ],
      "metadata": {
        "colab": {
          "base_uri": "https://localhost:8080/"
        },
        "id": "oJVsOfeRe3-N",
        "outputId": "40330300-97b3-4f75-fc7a-254fec7914d8"
      },
      "execution_count": 53,
      "outputs": [
        {
          "output_type": "stream",
          "name": "stdout",
          "text": [
            "1/1 [==============================] - 0s 146ms/step\n",
            "X=[7.0, 178.0, 72.0, 25.0, 0.0, 30.6, 0.527, 40.0],predicted=[0]\n"
          ]
        }
      ]
    },
    {
      "cell_type": "code",
      "source": [
        "#make class prediction with the model\n",
        "predictions = (model.predict(x) > 0.5).astype(int)\n",
        "for i in range(5):\n",
        "  print('%s => %d (expected %d)' % (x[i].tolist(), predictions[i], y[i]))"
      ],
      "metadata": {
        "colab": {
          "base_uri": "https://localhost:8080/"
        },
        "id": "u3TEZG9TfqBE",
        "outputId": "ce5c0d8c-5567-4621-bbd1-006a102a20e9"
      },
      "execution_count": 55,
      "outputs": [
        {
          "output_type": "stream",
          "name": "stdout",
          "text": [
            "24/24 [==============================] - 0s 1ms/step\n",
            "[6.0, 148.0, 72.0, 35.0, 0.0, 33.6, 0.627, 50.0] => 0 (expected 1)\n",
            "[1.0, 85.0, 66.0, 29.0, 0.0, 26.6, 0.351, 31.0] => 0 (expected 0)\n",
            "[8.0, 183.0, 64.0, 0.0, 0.0, 23.3, 0.672, 32.0] => 1 (expected 1)\n",
            "[1.0, 89.0, 66.0, 23.0, 94.0, 28.1, 0.167, 21.0] => 0 (expected 0)\n",
            "[0.0, 137.0, 40.0, 35.0, 168.0, 43.1, 2.288, 33.0] => 1 (expected 1)\n"
          ]
        }
      ]
    },
    {
      "cell_type": "code",
      "source": [],
      "metadata": {
        "id": "m1PER9j5gjq2"
      },
      "execution_count": null,
      "outputs": []
    }
  ]
}